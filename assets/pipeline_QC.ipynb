{
 "cells": [
  {
   "cell_type": "code",
   "execution_count": null,
   "metadata": {},
   "outputs": [],
   "source": [
    "%matplotlib inline\n",
    "import os\n",
    "#os.environ['KMP_DUPLICATE_LIB_OK']='True'\n",
    "os.environ[ 'NUMBA_CACHE_DIR' ] = '/tmp/'\n",
    "import numpy as np\n",
    "import pandas as pd\n",
    "import anndata as ad\n",
    "import scanpy as sc\n",
    "import seaborn as sns\n",
    "import matplotlib.pyplot as plt\n",
    "import scrublet as scr\n",
    "import scipy.io\n"
   ]
  },
  {
   "cell_type": "code",
   "execution_count": null,
   "metadata": {
    "tags": [
     "parameters"
    ]
   },
   "outputs": [],
   "source": [
    "scanpy_species= 'human'\n",
    "expected_doublet_rate=0.06\n",
    "scanpy_min_genes = 300\n",
    "scanpy_min_cells = 5\n",
    "scanpy_pct_mt = 20\n",
    "scanpy_total_counts = 200"
   ]
  },
  {
   "cell_type": "code",
   "execution_count": null,
   "metadata": {
    "tags": []
   },
   "outputs": [],
   "source": [
    "sc.settings.verbosity = 3             # verbosity: errors (0), warnings (1), info (2), hints (3)\n",
    "sc.logging.print_header()\n",
    "sc.settings.set_figure_params(dpi=80, facecolor='white')"
   ]
  },
  {
   "cell_type": "markdown",
   "metadata": {},
   "source": [
    "#### Loading data"
   ]
  },
  {
   "cell_type": "code",
   "execution_count": null,
   "metadata": {},
   "outputs": [],
   "source": [
    "filelist_all = os.listdir(\"./\")\n",
    "\n",
    "filelist = [x for x in filelist_all if x.endswith(\"h5\")]"
   ]
  },
  {
   "cell_type": "code",
   "execution_count": null,
   "metadata": {},
   "outputs": [],
   "source": [
    "adatas = [sc.read_10x_h5(filename) for filename in filelist]\n",
    "#adatas = [sc.read_10x_mtx(filename,cache=True) for filename in filelist]"
   ]
  },
  {
   "cell_type": "code",
   "execution_count": null,
   "metadata": {},
   "outputs": [],
   "source": [
    "adatas_raw = [sc.read_10x_h5(filename) for filename in filelist]\n",
    "#adatas_raw = [sc.read_10x_mtx(filename,cache=True) for filename in filelist]"
   ]
  },
  {
   "cell_type": "markdown",
   "metadata": {},
   "source": [
    "#### Preprocessing"
   ]
  },
  {
   "cell_type": "code",
   "execution_count": null,
   "metadata": {},
   "outputs": [],
   "source": [
    "for i in range(len(adatas_raw)):\n",
    "  adatas_raw[i].var_names_make_unique()\n",
    "  adatas_raw[i].obs['sample'] = os.path.splitext(os.path.basename(filelist[i]))[0]\n",
    "  adatas_raw[i].obs['species'] = scanpy_species\n",
    "  sc.pp.filter_cells(adatas_raw[i], min_genes=0)\n",
    "  "
   ]
  },
  {
   "cell_type": "code",
   "execution_count": null,
   "metadata": {},
   "outputs": [],
   "source": [
    "for i in range(len(adatas)):\n",
    "  adatas[i].var_names_make_unique()\n",
    "  adatas[i].obs['sample'] = os.path.splitext(os.path.basename(filelist[i]))[0]\n",
    "  adatas[i].obs['species'] = scanpy_species\n",
    "  sc.pp.filter_cells(adatas[i], min_genes=scanpy_min_genes)\n",
    "  sc.pp.filter_genes(adatas[i], min_cells=scanpy_min_cells)"
   ]
  },
  {
   "cell_type": "code",
   "execution_count": null,
   "metadata": {},
   "outputs": [],
   "source": [
    "for i in range(len(adatas)):\n",
    "  adatas[i].var['mt'] = adatas[i].var_names.str.startswith('MT-')\n",
    "  sc.pp.calculate_qc_metrics(adatas[i], qc_vars=['mt'], percent_top=None, log1p=False, inplace=True)\n",
    "  adatas[i] = adatas[i][adatas[i].obs.pct_counts_mt < scanpy_pct_mt, :]\n",
    "  adatas[i] = adatas[i][adatas[i].obs.total_counts > scanpy_total_counts, :] \n",
    "\n",
    "for i in range(len(adatas_raw)):\n",
    "  adatas_raw[i].var['mt'] = adatas_raw[i].var_names.str.startswith('MT-')\n",
    "  sc.pp.calculate_qc_metrics(adatas_raw[i], qc_vars=['mt'], percent_top=None, log1p=False, inplace=True)"
   ]
  },
  {
   "cell_type": "markdown",
   "metadata": {},
   "source": [
    "#### Remove doublet"
   ]
  },
  {
   "cell_type": "code",
   "execution_count": null,
   "metadata": {},
   "outputs": [],
   "source": [
    "for i in range(len(adatas)):\n",
    "    sc.pp.scrublet(adatas[i],expected_doublet_rate =expected_doublet_rate)\n",
    "    adatas[i] = adatas[i][adatas[i].obs['predicted_doublet']==False]"
   ]
  },
  {
   "cell_type": "code",
   "execution_count": null,
   "metadata": {},
   "outputs": [],
   "source": [
    "adatas"
   ]
  },
  {
   "cell_type": "code",
   "execution_count": null,
   "metadata": {},
   "outputs": [],
   "source": [
    "adatas_raw"
   ]
  },
  {
   "cell_type": "code",
   "execution_count": null,
   "metadata": {},
   "outputs": [],
   "source": [
    "adatas_concat = ad.concat([adatas[i] for i in range(len(adatas))], merge=\"same\")\n",
    "adatas_concatraw = ad.concat([adatas_raw[i] for i in range(len(adatas_raw))], merge=\"same\")"
   ]
  },
  {
   "cell_type": "code",
   "execution_count": null,
   "metadata": {},
   "outputs": [],
   "source": [
    "adatas_concat"
   ]
  },
  {
   "cell_type": "code",
   "execution_count": null,
   "metadata": {},
   "outputs": [],
   "source": [
    "adatas_concatraw"
   ]
  },
  {
   "cell_type": "markdown",
   "metadata": {},
   "source": [
    "#### Cell counts bar plot for each sample before and after filter"
   ]
  },
  {
   "cell_type": "code",
   "execution_count": null,
   "metadata": {},
   "outputs": [],
   "source": [
    "s = adatas_concatraw.obs[\"sample\"].value_counts()\n",
    "s = s.to_frame().reset_index()\n",
    "ax=sns.barplot(s, x = 'sample',y = 'count',color='blue') #before filter\n",
    "ax.tick_params(axis='x', labelrotation=45)"
   ]
  },
  {
   "cell_type": "code",
   "execution_count": null,
   "metadata": {},
   "outputs": [],
   "source": [
    "s = adatas_concat.obs[\"sample\"].value_counts()\n",
    "s = s.to_frame().reset_index()\n",
    "ax = sns.barplot(s, x = 'sample',y = 'count',color='orange') #after filter\n",
    "ax.tick_params(axis='x', labelrotation=45)"
   ]
  },
  {
   "cell_type": "markdown",
   "metadata": {},
   "source": [
    "#### Number of read counts per cell vs percentage mt genes before and after filter"
   ]
  },
  {
   "cell_type": "code",
   "execution_count": null,
   "metadata": {},
   "outputs": [],
   "source": [
    "ax = sc.pl.scatter(adatas_concatraw, x=\"total_counts\", y=\"pct_counts_mt\", color=\"sample\",show=False)\n",
    "ax.axhline(y=scanpy_pct_mt,color = \"r\")"
   ]
  },
  {
   "cell_type": "code",
   "execution_count": null,
   "metadata": {},
   "outputs": [],
   "source": [
    "sc.pl.scatter(adatas_concat, x=\"total_counts\", y=\"pct_counts_mt\", color=\"sample\")"
   ]
  },
  {
   "cell_type": "markdown",
   "metadata": {},
   "source": [
    "### Number of features (genes) per cell vs read counts before and after filter"
   ]
  },
  {
   "cell_type": "code",
   "execution_count": null,
   "metadata": {},
   "outputs": [],
   "source": [
    "ax = sc.pl.scatter(adatas_concatraw, x=\"total_counts\", y=\"n_genes\", color=\"sample\",show=False)\n",
    "ax.axhline(y=scanpy_min_genes,color = \"black\")"
   ]
  },
  {
   "cell_type": "code",
   "execution_count": null,
   "metadata": {},
   "outputs": [],
   "source": [
    "ax = sc.pl.scatter(adatas_concat, x=\"total_counts\", y=\"n_genes\", color=\"sample\",show=False)"
   ]
  },
  {
   "cell_type": "markdown",
   "metadata": {},
   "source": [
    "### Number of features (genes) per cell vs percentage mt genes before and after filter"
   ]
  },
  {
   "cell_type": "code",
   "execution_count": null,
   "metadata": {},
   "outputs": [],
   "source": [
    "ax = sc.pl.scatter(adatas_concatraw, x=\"n_genes\", y=\"pct_counts_mt\", color=\"sample\",show=False)\n",
    "ax.axvline(x=scanpy_min_genes,color = \"black\")\n",
    "ax.axhline(y=scanpy_pct_mt,color = \"red\")\n"
   ]
  },
  {
   "cell_type": "code",
   "execution_count": null,
   "metadata": {},
   "outputs": [],
   "source": [
    "ax = sc.pl.scatter(adatas_concat, x=\"n_genes\", y=\"pct_counts_mt\", color=\"sample\",show=False)"
   ]
  },
  {
   "cell_type": "markdown",
   "metadata": {},
   "source": [
    "#### Voilin plot for number of genes before and after filter"
   ]
  },
  {
   "cell_type": "code",
   "execution_count": null,
   "metadata": {},
   "outputs": [],
   "source": [
    "ax = sc.pl.violin(adatas_concatraw, ['n_genes'], groupby = 'sample',\n",
    "             jitter=0.4, multi_panel=True, show=False)\n",
    "ax.tick_params(axis='x', labelrotation=45)\n",
    "ax.axhline(y=scanpy_min_genes)"
   ]
  },
  {
   "cell_type": "code",
   "execution_count": null,
   "metadata": {},
   "outputs": [],
   "source": [
    "ax = sc.pl.violin(adatas_concat, ['n_genes'], groupby = 'sample',\n",
    "             jitter=0.4, multi_panel=True, show=False)\n",
    "ax.tick_params(axis='x', labelrotation=45)"
   ]
  },
  {
   "cell_type": "markdown",
   "metadata": {},
   "source": [
    "#### Voilin plot for percentage of mt genes before and after filter"
   ]
  },
  {
   "cell_type": "code",
   "execution_count": null,
   "metadata": {},
   "outputs": [],
   "source": [
    "ax = sc.pl.violin(adatas_concatraw, ['pct_counts_mt'], groupby = 'sample',\n",
    "             jitter=0.4, multi_panel=True, show=False)\n",
    "ax.tick_params(axis='x', labelrotation=45)\n",
    "ax.axhline(y=scanpy_pct_mt)"
   ]
  },
  {
   "cell_type": "code",
   "execution_count": null,
   "metadata": {},
   "outputs": [],
   "source": [
    "ax = sc.pl.violin(adatas_concat, ['pct_counts_mt'], groupby = 'sample',\n",
    "             jitter=0.4, multi_panel=True,show=False)\n",
    "ax.tick_params(axis='x', labelrotation=45)"
   ]
  },
  {
   "cell_type": "markdown",
   "metadata": {},
   "source": [
    "#### Save h5ad files"
   ]
  },
  {
   "cell_type": "code",
   "execution_count": null,
   "metadata": {},
   "outputs": [],
   "source": [
    "for i in range(len(adatas)):\n",
    "  #adatas[i].write(str(SRR[i])+'.h5ad')\n",
    "  adatas[i].write(os.path.splitext(os.path.basename(filelist[i]))[0]+'.h5ad')\n"
   ]
  }
 ],
 "metadata": {
  "kernelspec": {
   "display_name": "Python 3 (ipykernel)",
   "language": "python",
   "name": "python3"
  },
  "language_info": {
   "codemirror_mode": {
    "name": "ipython",
    "version": 3
   },
   "file_extension": ".py",
   "mimetype": "text/x-python",
   "name": "python",
   "nbconvert_exporter": "python",
   "pygments_lexer": "ipython3",
   "version": "3.10.14"
  }
 },
 "nbformat": 4,
 "nbformat_minor": 4
}
